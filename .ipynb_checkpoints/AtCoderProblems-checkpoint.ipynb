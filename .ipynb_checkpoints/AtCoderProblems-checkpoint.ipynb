{
 "cells": [
  {
   "cell_type": "code",
   "execution_count": 65,
   "metadata": {},
   "outputs": [
    {
     "name": "stdout",
     "output_type": "stream",
     "text": [
      "2019\n",
      "[9, 19, 19, 0, 0]\n",
      "2\n"
     ]
    }
   ],
   "source": [
    "#abc164-4\n",
    "import collections\n",
    "s = input()\n",
    "\n",
    "counts = []#modの値と個数を記録するリスト\n",
    "\n",
    "d = 0\n",
    "for i in range(0,len(s)):\n",
    "    d += int(s[-i-1])*(10**i)\n",
    "    counts.append(d % 2019)\n",
    "    \n",
    "counts.append(0)\n",
    "c = collections.Counter(counts)\n",
    "mlist = list(c.values())\n",
    "print(counts)\n",
    "sumcount = 0\n",
    "for m in mlist:\n",
    "    sumcount += m*(m-1)/2\n",
    "print(int(sumcount))\n",
    "#TLE"
   ]
  },
  {
   "cell_type": "code",
   "execution_count": 75,
   "metadata": {},
   "outputs": [
    {
     "name": "stdout",
     "output_type": "stream",
     "text": [
      "2119\n",
      "0\n"
     ]
    }
   ],
   "source": [
    "#abc164-4\n",
    "s = input()\n",
    "\n",
    "counts = [0]*2019#modの値と個数を記録するリスト\n",
    "d = 0\n",
    "counts[0] += 1\n",
    "for i in range(0,len(s)):\n",
    "    d += int(s[-i-1])*(10**i)\n",
    "    #print(d, d%2019)\n",
    "    counts[d % 2019] += 1\n",
    "#print(counts)\n",
    "sumcount = 0\n",
    "for m in counts:\n",
    "    sumcount += m*(m-1)/2\n",
    "print(int(sumcount))\n",
    "#TLE"
   ]
  },
  {
   "cell_type": "code",
   "execution_count": 76,
   "metadata": {},
   "outputs": [
    {
     "name": "stdout",
     "output_type": "stream",
     "text": [
      "2119\n",
      "0\n"
     ]
    }
   ],
   "source": [
    "s = input()[::-1] # 入力文字列を逆順でsに格納\n",
    "\n",
    "counts = [0] * 2019\n",
    "counts[0] = 1\n",
    "\n",
    "num, d = 0, 1\n",
    "\n",
    "for char in s:\n",
    "    num += int(char) * d\n",
    "    num %= 2019\n",
    "    d *= 10\n",
    "    d%= 2019\n",
    "    counts[num] += 1\n",
    "\n",
    "ans = 0\n",
    "for cnt in counts:\n",
    "    ans += cnt * (cnt - 1) // 2\n",
    "\n",
    "print(ans) # 答えの出力"
   ]
  },
  {
   "cell_type": "code",
   "execution_count": 78,
   "metadata": {},
   "outputs": [
    {
     "name": "stdout",
     "output_type": "stream",
     "text": [
      "20 3\n",
      "0 5 15\n",
      "10\n"
     ]
    }
   ],
   "source": [
    "#160-3 \n",
    "k, n = map(int,input().split())\n",
    "ans = 1e18\n",
    "arr = list(map(int,input().split()))\n",
    "for i in range(n): \n",
    "    dist1=(arr[i-1]-arr[i])%k\n",
    "    dist2=(arr[i]-arr[(i+1)%n])%k\n",
    "    ans=min(ans,dist1,dist2)\n",
    "print(ans)"
   ]
  },
  {
   "cell_type": "code",
   "execution_count": 85,
   "metadata": {},
   "outputs": [
    {
     "name": "stdout",
     "output_type": "stream",
     "text": [
      "7 3 7\n",
      "7\n",
      "8\n",
      "4\n",
      "2\n",
      "0\n",
      "0\n"
     ]
    }
   ],
   "source": [
    "#160-4\n",
    "n,x,y=map(int,input().split())\n",
    "ans=[0]*n #個数を数えるのにバケットを用意する\n",
    "for i in range(1,n+1): #i<jなるすべての頂点の組について最短距離を求める\n",
    "    for j in range(i+1,n+1):\n",
    "        dist1=j-i\n",
    "        dist2=abs(x-i)+abs(y-j)+1\n",
    "        dist3=abs(y-i)+abs(x-j)+1\n",
    "        d=min(dist1,dist2,dist3) #最短距離は上式により求められる\n",
    "        ans[d]+=1 #最短距離がdとなる組の個数を1増やす\n",
    "for i in range(1,n):\n",
    "    print(ans[i])\n"
   ]
  },
  {
   "cell_type": "code",
   "execution_count": null,
   "metadata": {},
   "outputs": [],
   "source": []
  }
 ],
 "metadata": {
  "kernelspec": {
   "display_name": "Environment (conda_normal)",
   "language": "python",
   "name": "conda_normal"
  },
  "language_info": {
   "codemirror_mode": {
    "name": "ipython",
    "version": 3
   },
   "file_extension": ".py",
   "mimetype": "text/x-python",
   "name": "python",
   "nbconvert_exporter": "python",
   "pygments_lexer": "ipython3",
   "version": "3.8.2"
  }
 },
 "nbformat": 4,
 "nbformat_minor": 4
}

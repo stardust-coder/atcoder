{
 "cells": [
  {
   "cell_type": "code",
   "execution_count": null,
   "metadata": {},
   "outputs": [],
   "source": [
    "header, M, I, R, BL, CL = input().split()\n",
    "M, I, R, BL, CL = int(M), int(I), int(R), int(BL), int(CL)\n",
    "machinelist=[] #appendのために宣言が必要\n",
    "bomlist = []\n",
    "combilist = []\n",
    "orderlist = []\n",
    "\n",
    "for _ in range(M):\n",
    "    machinelist.append(list(map(int,input().split())))\n",
    "for _ in range(BL):\n",
    "    bomlist.append(list(map(int,input().split())))\n",
    "for _ in range(CL):\n",
    "    machinelist.append(list(map(int,input().split())))\n",
    "for _ in range(R):\n",
    "    machinelist.append(list(map(int,input().split())))\n",
    "\n",
    "    \n",
    "\n",
    "\n",
    "    \n",
    "print(machinelist)\n",
    "#[[1, 2, 2, 3, 1], [4, 5, 3, 4, 1, 2, 3, 4], [2, 3, 5, 6, 0, 2]]"
   ]
  },
  {
   "cell_type": "code",
   "execution_count": null,
   "metadata": {},
   "outputs": [],
   "source": [
    "HEADER 2 2 8 4 8\n",
    "MACHINE 0 5 2 2 5\n",
    "MACHINE 1 5 2 3 7\n",
    "BOM 0 0 43200 2000\n",
    "BOM 0 1 172800 2000\n",
    "BOM 1 0 129600 1000\n",
    "BOM 1 1 259200 1000\n",
    "COMBI 0 0 0 0 0\n",
    "COMBI 0 0 1 43200 1000\n",
    "COMBI 0 1 0 43200 1000\n",
    "COMBI 0 1 1 0 0\n",
    "COMBI 1 0 0 0 0\n",
    "COMBI 1 0 1 86400 1000\n",
    "COMBI 1 1 0 86400 1000\n",
    "COMBI 1 1 1 0 0\n",
    "ORDER 0 0 0 864000 1 1 10000 86400\n",
    "ORDER 1 0 0 864000 2 2 20000 86400\n",
    "ORDER 2 0 0 864000 3 3 30000 86400\n",
    "ORDER 3 0 0 864000 4 4 40000 86400\n",
    "ORDER 4 1 0 864000 1 1 10000 86400\n",
    "ORDER 5 1 0 864000 2 2 20000 86400\n",
    "ORDER 6 1 0 864000 3 3 30000 86400\n",
    "ORDER 7 1 0 864000 4 4 40000 86400\n"
   ]
  }
 ],
 "metadata": {
  "kernelspec": {
   "display_name": "Environment (conda_normal)",
   "language": "python",
   "name": "conda_normal"
  },
  "language_info": {
   "codemirror_mode": {
    "name": "ipython",
    "version": 3
   },
   "file_extension": ".py",
   "mimetype": "text/x-python",
   "name": "python",
   "nbconvert_exporter": "python",
   "pygments_lexer": "ipython3",
   "version": "3.8.2"
  }
 },
 "nbformat": 4,
 "nbformat_minor": 4
}

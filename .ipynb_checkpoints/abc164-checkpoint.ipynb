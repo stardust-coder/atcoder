{
 "cells": [
  {
   "cell_type": "code",
   "execution_count": 7,
   "metadata": {},
   "outputs": [
    {
     "name": "stdout",
     "output_type": "stream",
     "text": [
      "10 10\n",
      "unsafe\n"
     ]
    }
   ],
   "source": [
    "s,w = map(int,input().split())\n",
    "if s <=w:\n",
    "    print(\"unsafe\")\n",
    "else:\n",
    "    print(\"safe\")"
   ]
  },
  {
   "cell_type": "code",
   "execution_count": 16,
   "metadata": {},
   "outputs": [
    {
     "name": "stdout",
     "output_type": "stream",
     "text": [
      "46 4 40 5\n",
      "Yes\n"
     ]
    }
   ],
   "source": [
    "a,b,c,d = map(int,input().split())\n",
    "\n",
    "while(True):\n",
    "    #print(c)\n",
    "    c -= b\n",
    "    #print(\"C\",c)\n",
    "    if c<=0:\n",
    "        print(\"Yes\")\n",
    "        break\n",
    "    #print(a)\n",
    "    a -= d\n",
    "    #print(\"A\",a)\n",
    "    if a<=0:\n",
    "        print(\"No\")\n",
    "        break\n"
   ]
  },
  {
   "cell_type": "code",
   "execution_count": 28,
   "metadata": {},
   "outputs": [
    {
     "name": "stdout",
     "output_type": "stream",
     "text": [
      "3\n",
      "apple\n",
      "orange\n",
      "apple\n",
      "2\n"
     ]
    }
   ],
   "source": [
    "from collections import Counter\n",
    "n = int(input())\n",
    "string_list=[input() for i in range(n)]\n",
    "c = collections.Counter(string_list)\n",
    "print(len(c))\n"
   ]
  },
  {
   "cell_type": "code",
   "execution_count": 47,
   "metadata": {},
   "outputs": [
    {
     "name": "stdout",
     "output_type": "stream",
     "text": [
      "201920192019\n",
      "['2', '0', '1', '9']\n",
      "['2', '0', '1', '9', '2']\n",
      "['2', '0', '1', '9', '2', '0']\n",
      "['2', '0', '1', '9', '2', '0', '1']\n",
      "['2', '0', '1', '9', '2', '0', '1', '9']\n",
      "['2', '0', '1', '9', '2', '0', '1', '9', '2']\n",
      "['2', '0', '1', '9', '2', '0', '1', '9', '2', '0']\n",
      "['2', '0', '1', '9', '2', '0', '1', '9', '2', '0', '1']\n",
      "['2', '0', '1', '9', '2', '0', '1', '9', '2', '0', '1', '9']\n",
      "['0', '1', '9', '2']\n",
      "['0', '1', '9', '2', '0']\n",
      "['0', '1', '9', '2', '0', '1']\n",
      "['0', '1', '9', '2', '0', '1', '9']\n",
      "['0', '1', '9', '2', '0', '1', '9', '2']\n",
      "['0', '1', '9', '2', '0', '1', '9', '2', '0']\n",
      "['0', '1', '9', '2', '0', '1', '9', '2', '0', '1']\n",
      "['0', '1', '9', '2', '0', '1', '9', '2', '0', '1', '9']\n",
      "['1', '9', '2', '0']\n",
      "['1', '9', '2', '0', '1']\n",
      "['1', '9', '2', '0', '1', '9']\n",
      "['1', '9', '2', '0', '1', '9', '2']\n",
      "['1', '9', '2', '0', '1', '9', '2', '0']\n",
      "['1', '9', '2', '0', '1', '9', '2', '0', '1']\n",
      "['1', '9', '2', '0', '1', '9', '2', '0', '1', '9']\n",
      "['9', '2', '0', '1']\n",
      "['9', '2', '0', '1', '9']\n",
      "['9', '2', '0', '1', '9', '2']\n",
      "['9', '2', '0', '1', '9', '2', '0']\n",
      "['9', '2', '0', '1', '9', '2', '0', '1']\n",
      "['9', '2', '0', '1', '9', '2', '0', '1', '9']\n",
      "['2', '0', '1', '9']\n",
      "['2', '0', '1', '9', '2']\n",
      "['2', '0', '1', '9', '2', '0']\n",
      "['2', '0', '1', '9', '2', '0', '1']\n",
      "['2', '0', '1', '9', '2', '0', '1', '9']\n",
      "['0', '1', '9', '2']\n",
      "['0', '1', '9', '2', '0']\n",
      "['0', '1', '9', '2', '0', '1']\n",
      "['0', '1', '9', '2', '0', '1', '9']\n",
      "['1', '9', '2', '0']\n",
      "['1', '9', '2', '0', '1']\n",
      "['1', '9', '2', '0', '1', '9']\n",
      "['9', '2', '0', '1']\n",
      "['9', '2', '0', '1', '9']\n",
      "['2', '0', '1', '9']\n",
      "6\n"
     ]
    }
   ],
   "source": [
    "Slist = list(input())\n",
    "keta = len(Slist)\n",
    "count = 0\n",
    "for i in range(keta):\n",
    "    for j in range(i+3,keta):\n",
    "        a = Slist[i:j+1]\n",
    "        print(a)\n",
    "        if int(\"\".join(a))%2019==0:\n",
    "            count += 1\n",
    "\n",
    "print(count)"
   ]
  },
  {
   "cell_type": "code",
   "execution_count": 52,
   "metadata": {},
   "outputs": [
    {
     "name": "stdout",
     "output_type": "stream",
     "text": [
      "3 2 1\n",
      "1 2 1 2\n",
      "1 3 2 4\n",
      "1 11\n",
      "1 2\n",
      "2 5\n",
      "[[1, 2, 1, 2], [1, 3, 2, 4], [1, 11], [1, 2], [2, 5]]\n",
      "[]\n"
     ]
    }
   ],
   "source": [
    "n,m,s = map(int,input().split())\n",
    "listA = []\n",
    "for _ in range(m):\n",
    "    listA.append(list(map(int,input().split())))#移動銀貨枚数、時間\n",
    "listB = []\n",
    "for _ in range(n):\n",
    "    listB.append(list(map(int,input().split())))#両替枚数、時間\n",
    "    \n",
    "print(listA)\n",
    "print(listB)\n",
    "    "
   ]
  },
  {
   "cell_type": "code",
   "execution_count": null,
   "metadata": {},
   "outputs": [],
   "source": []
  }
 ],
 "metadata": {
  "kernelspec": {
   "display_name": "Environment (conda_normal)",
   "language": "python",
   "name": "conda_normal"
  },
  "language_info": {
   "codemirror_mode": {
    "name": "ipython",
    "version": 3
   },
   "file_extension": ".py",
   "mimetype": "text/x-python",
   "name": "python",
   "nbconvert_exporter": "python",
   "pygments_lexer": "ipython3",
   "version": "3.8.2"
  }
 },
 "nbformat": 4,
 "nbformat_minor": 4
}

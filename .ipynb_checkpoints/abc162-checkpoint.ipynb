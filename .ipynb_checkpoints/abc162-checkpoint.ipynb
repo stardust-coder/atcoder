{
 "cells": [
  {
   "cell_type": "code",
   "execution_count": 24,
   "metadata": {},
   "outputs": [
    {
     "name": "stdout",
     "output_type": "stream",
     "text": [
      "567\n",
      "Yes\n"
     ]
    }
   ],
   "source": [
    "N = int(input())\n",
    "lst = []\n",
    "while N > 0:\n",
    "    lst.append(N%10)\n",
    "    N //= 10 # 必須\n",
    "lst.reverse()\n",
    "if 7 in lst:\n",
    "    print(\"Yes\")\n",
    "else:\n",
    "    print(\"No\")\n"
   ]
  },
  {
   "cell_type": "code",
   "execution_count": 26,
   "metadata": {},
   "outputs": [
    {
     "name": "stdout",
     "output_type": "stream",
     "text": [
      "1000000\n",
      "266666333332\n"
     ]
    }
   ],
   "source": [
    "N = int(input())\n",
    "fizzbuzz = []\n",
    "for i in range(1,N+1):\n",
    "    if i % 5 != 0 and i % 3 != 0:\n",
    "        fizzbuzz.append(i)\n",
    "\n",
    "print(sum(fizzbuzz))"
   ]
  },
  {
   "cell_type": "code",
   "execution_count": 34,
   "metadata": {},
   "outputs": [
    {
     "name": "stdout",
     "output_type": "stream",
     "text": [
      "200\n",
      "10813692\n"
     ]
    }
   ],
   "source": [
    "import math\n",
    "from functools import reduce\n",
    "\n",
    "def gcd(*numbers):\n",
    "    return reduce(math.gcd, numbers)\n",
    "\n",
    "K = int(input())\n",
    "sum = 0\n",
    "for a in range(1,K+1):\n",
    "    for b in range(1,K+1):\n",
    "        for c in range(1,K+1):\n",
    "            sum += gcd(a,b,c)\n",
    "\n",
    "print(sum)"
   ]
  },
  {
   "cell_type": "code",
   "execution_count": 70,
   "metadata": {},
   "outputs": [
    {
     "name": "stdout",
     "output_type": "stream",
     "text": [
      "39\n",
      "RBRBGRBGGBBRRGBBRRRBGGBRBGBRBGBRBBBGBBB\n",
      "1800\n"
     ]
    }
   ],
   "source": [
    "N = int(input())\n",
    "S = input()\n",
    "\n",
    "rlist, glist, blist = [], [], []\n",
    "for i in range(N):\n",
    "    if S[i] == \"R\":\n",
    "        rlist.append(i)\n",
    "    elif S[i] == \"G\":\n",
    "        glist.append(i)\n",
    "    else:\n",
    "        blist.append(i)\n",
    "\n",
    "rnumber = len(rlist)\n",
    "gnumber = len(glist)\n",
    "bnumber = N - rnumber - gnumber\n",
    "total = rnumber * gnumber * bnumber\n",
    "\n",
    "overcount = 0\n",
    "for r in rlist:\n",
    "    for g in glist:\n",
    "        if (2*r-g) in blist: \n",
    "            overcount +=1\n",
    "        if (2*g-r) in blist:\n",
    "            overcount +=1\n",
    "        if (r+g)/2 in blist:\n",
    "            overcount +=1            \n",
    "print(total - overcount)"
   ]
  },
  {
   "cell_type": "code",
   "execution_count": 81,
   "metadata": {},
   "outputs": [
    {
     "name": "stdout",
     "output_type": "stream",
     "text": [
      "4\n",
      "RRGB\n",
      "1\n"
     ]
    }
   ],
   "source": [
    "N = int(input())\n",
    "S = input()\n",
    "\n",
    "x = S.count(\"R\")\n",
    "y = S.count(\"G\")\n",
    "\n",
    "total = x*y*(N-x-y)\n",
    "\n",
    "count = 0\n",
    "for i in range(N):\n",
    "    texta = S[i]\n",
    "    for j in range(i,int((N-1+i)/2)+1):\n",
    "        if S[j] != texta:\n",
    "            textb = S[j]\n",
    "            if S[2*j-i] != texta and S[2*j-i] !=textb:\n",
    "                count += 1\n",
    "\n",
    "print(total - count)\n",
    "    "
   ]
  },
  {
   "cell_type": "code",
   "execution_count": 83,
   "metadata": {},
   "outputs": [
    {
     "name": "stdout",
     "output_type": "stream",
     "text": [
      "3 2\n"
     ]
    }
   ],
   "source": [
    "import math\n",
    "from functools import reduce\n",
    "\n",
    "def gcd(*numbers):\n",
    "    return reduce(math.gcd, numbers)\n",
    "\n",
    "\n",
    "N, K = map(int,input().split())\n",
    "\n",
    "sum = 0\n",
    "\n",
    "sum += gcd()\n",
    "\n",
    "print(sum)"
   ]
  },
  {
   "cell_type": "code",
   "execution_count": null,
   "metadata": {},
   "outputs": [],
   "source": []
  },
  {
   "cell_type": "code",
   "execution_count": null,
   "metadata": {},
   "outputs": [],
   "source": []
  }
 ],
 "metadata": {
  "kernelspec": {
   "display_name": "Environment (conda_normal)",
   "language": "python",
   "name": "conda_normal"
  },
  "language_info": {
   "codemirror_mode": {
    "name": "ipython",
    "version": 3
   },
   "file_extension": ".py",
   "mimetype": "text/x-python",
   "name": "python",
   "nbconvert_exporter": "python",
   "pygments_lexer": "ipython3",
   "version": "3.8.2"
  }
 },
 "nbformat": 4,
 "nbformat_minor": 4
}

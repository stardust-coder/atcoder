{
 "cells": [
  {
   "cell_type": "code",
   "execution_count": 2,
   "metadata": {},
   "outputs": [
    {
     "name": "stdout",
     "output_type": "stream",
     "text": [
      "1\n",
      "6.283185307179586\n"
     ]
    }
   ],
   "source": [
    "from math import pi\n",
    "r = int(input())\n",
    "enshu = 2*pi*r\n",
    "print(enshu)"
   ]
  },
  {
   "cell_type": "code",
   "execution_count": 9,
   "metadata": {},
   "outputs": [
    {
     "name": "stdout",
     "output_type": "stream",
     "text": [
      "10 1\n",
      "5 6\n",
      "-1\n"
     ]
    }
   ],
   "source": [
    "n, m = map(int,input().split())\n",
    "li = list(map(int,input().split()))\n",
    "ans = n - sum(li)\n",
    "if ans < 0:\n",
    "    print(\"-1\")\n",
    "else:\n",
    "    print(ans)"
   ]
  },
  {
   "cell_type": "code",
   "execution_count": 19,
   "metadata": {},
   "outputs": [
    {
     "name": "stdout",
     "output_type": "stream",
     "text": [
      "7\n",
      "1 2 3 4 5 6 7\n",
      "1\n",
      "1\n",
      "1\n",
      "1\n",
      "1\n",
      "1\n",
      "1\n"
     ]
    }
   ],
   "source": [
    "n = int(input())\n",
    "li = list(map(int,input().split()))\n",
    "\n",
    "for i in range(n):\n",
    "    print(li.count(i+1))\n"
   ]
  },
  {
   "cell_type": "code",
   "execution_count": 17,
   "metadata": {},
   "outputs": [
    {
     "name": "stdout",
     "output_type": "stream",
     "text": [
      "200000 200001\n",
      "1\n"
     ]
    }
   ],
   "source": [
    "n, k = map(int,input().split())\n",
    "\n",
    "goukei = 0\n",
    "for j in range(k,n+2):\n",
    "    goukei += ((2*n-j+1)*(j)/2) - ((j-1)*j/2) + 1\n",
    "    \n",
    "print(int(goukei % (1e9 + 7)))"
   ]
  },
  {
   "cell_type": "code",
   "execution_count": 50,
   "metadata": {},
   "outputs": [
    {
     "name": "stdout",
     "output_type": "stream",
     "text": [
      "6\n",
      "8 6 9 1 2 1\n",
      "[8, 6, 0, 1, 2, 1]\n",
      "2 0 5\n",
      "goukei 27\n",
      "[0, 6, 0, 1, 2, 1]\n",
      "0 0 4\n",
      "goukei 59\n",
      "[0, 0, 0, 1, 2, 1]\n",
      "1 0 3\n",
      "goukei 71\n",
      "[0, 0, 0, 1, 0, 1]\n",
      "4 0 2\n",
      "goukei 79\n",
      "[0, 0, 0, 0, 0, 1]\n",
      "3 1 2\n",
      "goukei 81\n",
      "[0, 0, 0, 0, 0, 0]\n",
      "5 2 2\n",
      "goukei 84\n",
      "84\n"
     ]
    }
   ],
   "source": [
    "n = int(input())\n",
    "li = list(map(int,input().split()))\n",
    "\n",
    "\n",
    "\n",
    "\n",
    "goukei = 0\n",
    "emptylist = [i for i in range(n)]\n",
    "while emptylist != []:\n",
    "    center = (emptylist[0] + emptylist[-1])/2\n",
    "    #maxIndex = [i for i, x in enumerate(li) if x == max(li)]\n",
    "    #if len(maxIndex) == 1:\n",
    "        #max_index = maxIndex[0]\n",
    "    #else:\n",
    "        #print(\"maxIndex\",maxIndex)\n",
    "        #new_array = list(map(lambda x: abs(x-center),maxIndex))\n",
    "        #print(\"newarray\",new_array)\n",
    "        #max_index = maxIndex[new_array.index(max(new_array))]\n",
    "      \n",
    "    max_value = max(li)\n",
    "    max_index = li.index(max_value)\n",
    "    li[max_index] = 0 \n",
    "    print(li)\n",
    "    print(max_index, emptylist[0],emptylist[-1])\n",
    "    if max_index > center:\n",
    "        idousaki = emptylist[0]\n",
    "        goukei += abs(max_index - idousaki) * max_value\n",
    "        emptylist.pop(0)\n",
    "    else:\n",
    "        idousaki = emptylist[-1]   \n",
    "        goukei += abs(max_index - idousaki) * max_value\n",
    "        emptylist.pop(-1)\n",
    "    print(\"goukei\",goukei)\n",
    "    \n",
    "print(goukei)\n",
    "    "
   ]
  },
  {
   "cell_type": "code",
   "execution_count": 81,
   "metadata": {},
   "outputs": [
    {
     "name": "stdout",
     "output_type": "stream",
     "text": [
      "6\n",
      "8 6 9 1 2 1\n"
     ]
    },
    {
     "data": {
      "text/plain": [
       "85"
      ]
     },
     "execution_count": 81,
     "metadata": {},
     "output_type": "execute_result"
    }
   ],
   "source": [
    "n = int(input())\n",
    "li = list(map(int,input().split()))\n",
    "import copy\n",
    "\n",
    "def maxmize(members, seats):\n",
    "    if seats == []:\n",
    "        return 0\n",
    "    else:\n",
    "        saidai = max(members)\n",
    "        saidai_index = members.index(saidai)\n",
    "        newmembers = copy.deepcopy(members)\n",
    "        newmembers[saidai_index] = 0\n",
    "        right = maxmize(newmembers,seats[:-1]) + saidai * abs(saidai_index - seats[-1])\n",
    "        left = maxmize(newmembers,seats[1:]) + saidai * abs(saidai_index - seats[0])                                                      \n",
    "    return max(left,right)\n",
    "\n",
    "givenseats = [j for j in range(n)]\n",
    "maxmize(li, givenseats)"
   ]
  },
  {
   "cell_type": "code",
   "execution_count": null,
   "metadata": {},
   "outputs": [],
   "source": []
  }
 ],
 "metadata": {
  "kernelspec": {
   "display_name": "Environment (conda_mlpy35)",
   "language": "python",
   "name": "conda_mlpy35"
  },
  "language_info": {
   "codemirror_mode": {
    "name": "ipython",
    "version": 3
   },
   "file_extension": ".py",
   "mimetype": "text/x-python",
   "name": "python",
   "nbconvert_exporter": "python",
   "pygments_lexer": "ipython3",
   "version": "3.5.6"
  }
 },
 "nbformat": 4,
 "nbformat_minor": 4
}

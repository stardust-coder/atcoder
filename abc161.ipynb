{
 "cells": [
  {
   "cell_type": "code",
   "execution_count": 1,
   "metadata": {},
   "outputs": [
    {
     "name": "stdout",
     "output_type": "stream",
     "text": [
      "41 59 31\n",
      "31 41 59\n"
     ]
    }
   ],
   "source": [
    "#トイ１\n",
    "x,y,z = map(int,input().split())\n",
    "print(z,x,y)"
   ]
  },
  {
   "cell_type": "code",
   "execution_count": 7,
   "metadata": {},
   "outputs": [
    {
     "name": "stdout",
     "output_type": "stream",
     "text": [
      "12 3\n",
      "4 56 78 901 2 345 67 890 123 45 6 789\n",
      "Yes\n"
     ]
    }
   ],
   "source": [
    "#トイ２\n",
    "n,m = map(int,input().split())\n",
    "li = list(map(int,input().split()))\n",
    "soutouhyou = sum(li)\n",
    "tokuhyou = soutouhyou/(4*m)\n",
    "num = sum(x >= tokuhyou for x in li)\n",
    "if num >= m:\n",
    "    print(\"Yes\")\n",
    "else:\n",
    "    print(\"No\")"
   ]
  },
  {
   "cell_type": "code",
   "execution_count": 12,
   "metadata": {},
   "outputs": [
    {
     "name": "stdout",
     "output_type": "stream",
     "text": [
      "20 6\n",
      "2\n"
     ]
    }
   ],
   "source": [
    "#トイ３\n",
    "n,k = map(int,input().split())\n",
    "amari = n%k\n",
    "answer = min(amari, k-amari)\n",
    "print(answer)"
   ]
  },
  {
   "cell_type": "code",
   "execution_count": 14,
   "metadata": {},
   "outputs": [
    {
     "name": "stdout",
     "output_type": "stream",
     "text": [
      "1\n",
      "<class 'int'>\n"
     ]
    }
   ],
   "source": [
    "#トイ４\n",
    "k = int(input())\n",
    "\n",
    "def runrun\n",
    "\n",
    "count = 0\n",
    "num = 0\n",
    "while count < k:\n",
    "    count += 1\n",
    "    \n",
    "    print(num)\n",
    "    "
   ]
  },
  {
   "cell_type": "code",
   "execution_count": null,
   "metadata": {},
   "outputs": [],
   "source": []
  }
 ],
 "metadata": {
  "kernelspec": {
   "display_name": "Environment (conda_anaconda3)",
   "language": "python",
   "name": "conda_anaconda3"
  },
  "language_info": {
   "codemirror_mode": {
    "name": "ipython",
    "version": 3
   },
   "file_extension": ".py",
   "mimetype": "text/x-python",
   "name": "python",
   "nbconvert_exporter": "python",
   "pygments_lexer": "ipython3",
   "version": "3.6.4"
  }
 },
 "nbformat": 4,
 "nbformat_minor": 2
}
